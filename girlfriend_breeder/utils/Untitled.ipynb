{
 "cells": [
  {
   "cell_type": "code",
   "execution_count": 1,
   "id": "04055ac5-e40f-41ed-b5bd-41183177b79d",
   "metadata": {
    "tags": []
   },
   "outputs": [
    {
     "name": "stdout",
     "output_type": "stream",
     "text": [
      "AWS 設定情報:\n",
      "  - AWS_REGION: ap-northeast-1\n",
      "  - AWS_PROFILE: default\n",
      "  - 認証情報のソース: <botocore.credentials.Credentials object at 0x7f36554ed870>\n",
      "  - STS アカウント: {'UserId': 'AIDATAVAA7O23LPL2N4K7', 'Account': '207567780789', 'Arn': 'arn:aws:iam::207567780789:user/rokada', 'ResponseMetadata': {'RequestId': '3890b219-f96b-4981-9eb0-96d11100cd43', 'HTTPStatusCode': 200, 'HTTPHeaders': {'x-amzn-requestid': '3890b219-f96b-4981-9eb0-96d11100cd43', 'content-type': 'text/xml', 'content-length': '403', 'date': 'Wed, 12 Mar 2025 01:27:10 GMT'}, 'RetryAttempts': 0}}\n"
     ]
    }
   ],
   "source": [
    "import boto3\n",
    "\n",
    "session = boto3.Session()\n",
    "sts_client = session.client('sts')\n",
    "\n",
    "print(\"AWS 設定情報:\")\n",
    "print(f\"  - AWS_REGION: {session.region_name}\")\n",
    "print(f\"  - AWS_PROFILE: {session.profile_name}\")\n",
    "print(f\"  - 認証情報のソース: {session.get_credentials()}\")\n",
    "print(f\"  - STS アカウント: {sts_client.get_caller_identity()}\")"
   ]
  },
  {
   "cell_type": "code",
   "execution_count": null,
   "id": "9bddd839-e88a-42fa-ae8b-541d6207d8a9",
   "metadata": {},
   "outputs": [],
   "source": []
  }
 ],
 "metadata": {
  "kernelspec": {
   "display_name": "conda_pytorch_p310",
   "language": "python",
   "name": "conda_pytorch_p310"
  },
  "language_info": {
   "codemirror_mode": {
    "name": "ipython",
    "version": 3
   },
   "file_extension": ".py",
   "mimetype": "text/x-python",
   "name": "python",
   "nbconvert_exporter": "python",
   "pygments_lexer": "ipython3",
   "version": "3.10.14"
  }
 },
 "nbformat": 4,
 "nbformat_minor": 5
}
